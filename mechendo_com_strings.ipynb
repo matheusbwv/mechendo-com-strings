{
  "nbformat": 4,
  "nbformat_minor": 0,
  "metadata": {
    "colab": {
      "name": "mechendo com strings",
      "provenance": [],
      "collapsed_sections": [],
      "authorship_tag": "ABX9TyP2I78ptvfUdBK9ibinjbfK",
      "include_colab_link": true
    },
    "kernelspec": {
      "name": "python3",
      "display_name": "Python 3"
    },
    "language_info": {
      "name": "python"
    }
  },
  "cells": [
    {
      "cell_type": "markdown",
      "metadata": {
        "id": "view-in-github",
        "colab_type": "text"
      },
      "source": [
        "<a href=\"https://colab.research.google.com/github/matheusbwv/mechendo-com-strings/blob/master/mechendo_com_strings.ipynb\" target=\"_parent\"><img src=\"https://colab.research.google.com/assets/colab-badge.svg\" alt=\"Open In Colab\"/></a>"
      ]
    },
    {
      "cell_type": "code",
      "metadata": {
        "id": "ehfUDK0T0Jgf"
      },
      "source": [
        "txt = (\"hello word\")\n",
        "txt2 = 'QUEIJO'\n",
        "txt3 = 'Manteiga Amarga'\n",
        "txt4 = 'jw45687'"
      ],
      "execution_count": 113,
      "outputs": []
    },
    {
      "cell_type": "code",
      "metadata": {
        "id": "SYH867YM0-Os"
      },
      "source": [
        "l = txt.split(\"hello\" \"word\")"
      ],
      "execution_count": 12,
      "outputs": []
    },
    {
      "cell_type": "code",
      "metadata": {
        "colab": {
          "base_uri": "https://localhost:8080/"
        },
        "id": "3tlYanLe1Fhq",
        "outputId": "16397aa5-8b41-4f89-82b6-d902be84e65f"
      },
      "source": [
        "l"
      ],
      "execution_count": 13,
      "outputs": [
        {
          "output_type": "execute_result",
          "data": {
            "text/plain": [
              "['hello word']"
            ]
          },
          "metadata": {},
          "execution_count": 13
        }
      ]
    },
    {
      "cell_type": "code",
      "metadata": {
        "colab": {
          "base_uri": "https://localhost:8080/",
          "height": 35
        },
        "id": "wb7kat4i1lWy",
        "outputId": "e9ac169a-dcbe-42be-ed28-da2cadec9116"
      },
      "source": [
        "txt.lower()"
      ],
      "execution_count": 14,
      "outputs": [
        {
          "output_type": "execute_result",
          "data": {
            "application/vnd.google.colaboratory.intrinsic+json": {
              "type": "string"
            },
            "text/plain": [
              "'hello word'"
            ]
          },
          "metadata": {},
          "execution_count": 14
        }
      ]
    },
    {
      "cell_type": "code",
      "metadata": {
        "colab": {
          "base_uri": "https://localhost:8080/",
          "height": 35
        },
        "id": "4SjwhwJx2NZC",
        "outputId": "fb5b158e-2d7c-4724-8457-c5b5c8143570"
      },
      "source": [
        "txt.capitalize()"
      ],
      "execution_count": 19,
      "outputs": [
        {
          "output_type": "execute_result",
          "data": {
            "application/vnd.google.colaboratory.intrinsic+json": {
              "type": "string"
            },
            "text/plain": [
              "'Hello word'"
            ]
          },
          "metadata": {},
          "execution_count": 19
        }
      ]
    },
    {
      "cell_type": "code",
      "metadata": {
        "colab": {
          "base_uri": "https://localhost:8080/"
        },
        "id": "zyIzJV8p2R4j",
        "outputId": "69442c9e-541b-4336-d851-241a21681a36"
      },
      "source": [
        "len(txt)"
      ],
      "execution_count": 20,
      "outputs": [
        {
          "output_type": "execute_result",
          "data": {
            "text/plain": [
              "10"
            ]
          },
          "metadata": {},
          "execution_count": 20
        }
      ]
    },
    {
      "cell_type": "code",
      "metadata": {
        "colab": {
          "base_uri": "https://localhost:8080/",
          "height": 35
        },
        "id": "xSiukKKY2jxA",
        "outputId": "b1adf1d2-6e30-4c47-f4df-c7b341f8c7d1"
      },
      "source": [
        "txt.title()"
      ],
      "execution_count": 22,
      "outputs": [
        {
          "output_type": "execute_result",
          "data": {
            "application/vnd.google.colaboratory.intrinsic+json": {
              "type": "string"
            },
            "text/plain": [
              "'Hello Word'"
            ]
          },
          "metadata": {},
          "execution_count": 22
        }
      ]
    },
    {
      "cell_type": "code",
      "metadata": {
        "colab": {
          "base_uri": "https://localhost:8080/",
          "height": 35
        },
        "id": "diojgWZ_2n77",
        "outputId": "2bb90d14-26c8-42ee-bcc8-2e42d610abbb"
      },
      "source": [
        "txt3.swapcase()"
      ],
      "execution_count": 52,
      "outputs": [
        {
          "output_type": "execute_result",
          "data": {
            "application/vnd.google.colaboratory.intrinsic+json": {
              "type": "string"
            },
            "text/plain": [
              "'mANTEIGA aMARGA'"
            ]
          },
          "metadata": {},
          "execution_count": 52
        }
      ]
    },
    {
      "cell_type": "code",
      "metadata": {
        "colab": {
          "base_uri": "https://localhost:8080/"
        },
        "id": "cfEV9H8a3K8A",
        "outputId": "45f44c57-55a5-460c-92bd-6653e72a9886"
      },
      "source": [
        "txt.istitle()"
      ],
      "execution_count": 25,
      "outputs": [
        {
          "output_type": "execute_result",
          "data": {
            "text/plain": [
              "False"
            ]
          },
          "metadata": {},
          "execution_count": 25
        }
      ]
    },
    {
      "cell_type": "code",
      "metadata": {
        "colab": {
          "base_uri": "https://localhost:8080/"
        },
        "id": "tf9ay2GW3GAz",
        "outputId": "d6bd4404-c6df-431b-b67f-fd0c2153ad61"
      },
      "source": [
        "txt2.istitle()"
      ],
      "execution_count": 54,
      "outputs": [
        {
          "output_type": "execute_result",
          "data": {
            "text/plain": [
              "False"
            ]
          },
          "metadata": {},
          "execution_count": 54
        }
      ]
    },
    {
      "cell_type": "code",
      "metadata": {
        "colab": {
          "base_uri": "https://localhost:8080/"
        },
        "id": "6-CV440O341I",
        "outputId": "54cc687c-92d2-4a26-b5e3-d91b4a0c2d0a"
      },
      "source": [
        "txt.islower()"
      ],
      "execution_count": 31,
      "outputs": [
        {
          "output_type": "execute_result",
          "data": {
            "text/plain": [
              "True"
            ]
          },
          "metadata": {},
          "execution_count": 31
        }
      ]
    },
    {
      "cell_type": "code",
      "metadata": {
        "colab": {
          "base_uri": "https://localhost:8080/"
        },
        "id": "SPYdSaqO3-4m",
        "outputId": "ff84fbf0-f639-48d5-be4e-42876f50fee2"
      },
      "source": [
        "txt2.islower()"
      ],
      "execution_count": 34,
      "outputs": [
        {
          "output_type": "execute_result",
          "data": {
            "text/plain": [
              "False"
            ]
          },
          "metadata": {},
          "execution_count": 34
        }
      ]
    },
    {
      "cell_type": "code",
      "metadata": {
        "colab": {
          "base_uri": "https://localhost:8080/"
        },
        "id": "H-s-QRhs43Uv",
        "outputId": "22728e6d-b6e9-4cb8-acee-afe21c9c7728"
      },
      "source": [
        "txt3.islower()"
      ],
      "execution_count": 35,
      "outputs": [
        {
          "output_type": "execute_result",
          "data": {
            "text/plain": [
              "False"
            ]
          },
          "metadata": {},
          "execution_count": 35
        }
      ]
    },
    {
      "cell_type": "code",
      "metadata": {
        "colab": {
          "base_uri": "https://localhost:8080/"
        },
        "id": "7JgePp3E5HeY",
        "outputId": "bac59256-0aaf-4a1e-99c5-1062764c2a00"
      },
      "source": [
        "txt2.isalnum()"
      ],
      "execution_count": 42,
      "outputs": [
        {
          "output_type": "execute_result",
          "data": {
            "text/plain": [
              "True"
            ]
          },
          "metadata": {},
          "execution_count": 42
        }
      ]
    },
    {
      "cell_type": "code",
      "metadata": {
        "colab": {
          "base_uri": "https://localhost:8080/"
        },
        "id": "C5la-yyf5Nk9",
        "outputId": "46e9bfeb-2238-4cfd-fbf2-c9402095d61d"
      },
      "source": [
        "txt.isdigit()"
      ],
      "execution_count": 59,
      "outputs": [
        {
          "output_type": "execute_result",
          "data": {
            "text/plain": [
              "False"
            ]
          },
          "metadata": {},
          "execution_count": 59
        }
      ]
    },
    {
      "cell_type": "code",
      "metadata": {
        "colab": {
          "base_uri": "https://localhost:8080/",
          "height": 35
        },
        "id": "ajwuMtZ_6C6s",
        "outputId": "327e89e2-3228-4dcf-8582-754cc2842c5f"
      },
      "source": [
        "txt.ljust(15)"
      ],
      "execution_count": 63,
      "outputs": [
        {
          "output_type": "execute_result",
          "data": {
            "application/vnd.google.colaboratory.intrinsic+json": {
              "type": "string"
            },
            "text/plain": [
              "'hello word     '"
            ]
          },
          "metadata": {},
          "execution_count": 63
        }
      ]
    },
    {
      "cell_type": "code",
      "metadata": {
        "colab": {
          "base_uri": "https://localhost:8080/",
          "height": 35
        },
        "id": "SDfJhRmD7aNr",
        "outputId": "36872832-49c2-4b60-fbb2-18f4060b17cd"
      },
      "source": [
        "txt.rjust(15)"
      ],
      "execution_count": 64,
      "outputs": [
        {
          "output_type": "execute_result",
          "data": {
            "application/vnd.google.colaboratory.intrinsic+json": {
              "type": "string"
            },
            "text/plain": [
              "'     hello word'"
            ]
          },
          "metadata": {},
          "execution_count": 64
        }
      ]
    },
    {
      "cell_type": "code",
      "metadata": {
        "colab": {
          "base_uri": "https://localhost:8080/",
          "height": 35
        },
        "id": "CNjZ3TSE8EBZ",
        "outputId": "92ff7832-35c5-4c3c-e0a8-cf0d58dcaeef"
      },
      "source": [
        "txt.center(15)"
      ],
      "execution_count": 65,
      "outputs": [
        {
          "output_type": "execute_result",
          "data": {
            "application/vnd.google.colaboratory.intrinsic+json": {
              "type": "string"
            },
            "text/plain": [
              "'   hello word  '"
            ]
          },
          "metadata": {},
          "execution_count": 65
        }
      ]
    },
    {
      "cell_type": "code",
      "metadata": {
        "colab": {
          "base_uri": "https://localhost:8080/",
          "height": 35
        },
        "id": "uTRUDPPv86ad",
        "outputId": "3bfc242f-b5ee-499b-a5d7-01cd8878401d"
      },
      "source": [
        "txt.center(16 ,'x')"
      ],
      "execution_count": 69,
      "outputs": [
        {
          "output_type": "execute_result",
          "data": {
            "application/vnd.google.colaboratory.intrinsic+json": {
              "type": "string"
            },
            "text/plain": [
              "'xxxhello wordxxx'"
            ]
          },
          "metadata": {},
          "execution_count": 69
        }
      ]
    },
    {
      "cell_type": "code",
      "metadata": {
        "colab": {
          "base_uri": "https://localhost:8080/",
          "height": 35
        },
        "id": "11pUNG7j8_xU",
        "outputId": "7f2414ba-454e-4f62-ee2c-3badee0f132a"
      },
      "source": [
        "txt.strip()"
      ],
      "execution_count": 70,
      "outputs": [
        {
          "output_type": "execute_result",
          "data": {
            "application/vnd.google.colaboratory.intrinsic+json": {
              "type": "string"
            },
            "text/plain": [
              "'hello word'"
            ]
          },
          "metadata": {},
          "execution_count": 70
        }
      ]
    },
    {
      "cell_type": "code",
      "metadata": {
        "colab": {
          "base_uri": "https://localhost:8080/"
        },
        "id": "cFadkpBF9pQV",
        "outputId": "41b7f695-6994-4a3e-8e83-c33120e9d62a"
      },
      "source": [
        "primeiro_nome = 'matheus'\n",
        "segundo_nome = 'wenes'\n",
        "\n",
        "nome_completo = primeiro_nome + ' ' +  segundo_nome\n",
        "\n",
        "print(nome_completo)"
      ],
      "execution_count": 75,
      "outputs": [
        {
          "output_type": "stream",
          "name": "stdout",
          "text": [
            "matheus wenes\n"
          ]
        }
      ]
    },
    {
      "cell_type": "code",
      "metadata": {
        "colab": {
          "base_uri": "https://localhost:8080/",
          "height": 35
        },
        "id": "IL0wjBf7-HfA",
        "outputId": "9746efbc-e4c6-41e0-fc83-2b9fe0f655a7"
      },
      "source": [
        "txt.format()"
      ],
      "execution_count": 76,
      "outputs": [
        {
          "output_type": "execute_result",
          "data": {
            "application/vnd.google.colaboratory.intrinsic+json": {
              "type": "string"
            },
            "text/plain": [
              "'hello word'"
            ]
          },
          "metadata": {},
          "execution_count": 76
        }
      ]
    },
    {
      "cell_type": "code",
      "metadata": {
        "colab": {
          "base_uri": "https://localhost:8080/",
          "height": 35
        },
        "id": "9Yn6sVyb_s0A",
        "outputId": "663c66cf-5299-4d95-d118-70bc1d056a22"
      },
      "source": [
        "'juazeiro do norte,mais de ' + str(100) + ' anos!!'"
      ],
      "execution_count": 78,
      "outputs": [
        {
          "output_type": "execute_result",
          "data": {
            "application/vnd.google.colaboratory.intrinsic+json": {
              "type": "string"
            },
            "text/plain": [
              "'juazeiro do norte,mais de 100 anos!!'"
            ]
          },
          "metadata": {},
          "execution_count": 78
        }
      ]
    },
    {
      "cell_type": "code",
      "metadata": {
        "colab": {
          "base_uri": "https://localhost:8080/",
          "height": 35
        },
        "id": "kfu9pY6EABa4",
        "outputId": "fd9c5edd-112a-42b4-e1c2-c29004a09834"
      },
      "source": [
        "txt2*4"
      ],
      "execution_count": 79,
      "outputs": [
        {
          "output_type": "execute_result",
          "data": {
            "application/vnd.google.colaboratory.intrinsic+json": {
              "type": "string"
            },
            "text/plain": [
              "'QUEIJOQUEIJOQUEIJOQUEIJO'"
            ]
          },
          "metadata": {},
          "execution_count": 79
        }
      ]
    },
    {
      "cell_type": "code",
      "metadata": {
        "colab": {
          "base_uri": "https://localhost:8080/"
        },
        "id": "eAB8O39-ANLg",
        "outputId": "780e7e6a-4b23-458c-d12e-9acdfdde8a2e"
      },
      "source": [
        "txt5 = 'eu sou {nome} e tenho {anos}'\n",
        "\n",
        "print(txt5.format(nome = 'matheus' , anos = 21))"
      ],
      "execution_count": 90,
      "outputs": [
        {
          "output_type": "stream",
          "name": "stdout",
          "text": [
            "eu sou matheus e tenho 21\n"
          ]
        }
      ]
    },
    {
      "cell_type": "code",
      "metadata": {
        "colab": {
          "base_uri": "https://localhost:8080/"
        },
        "id": "KTqUaEI5ArIZ",
        "outputId": "52831e40-27a2-4c20-b600-7b2da0b66aeb"
      },
      "source": [
        "contador = 0\n",
        "\n",
        "while(contador < 4):\n",
        "\n",
        "  print(contador)\n",
        "\n",
        "  contador = contador + 1\n",
        "\n",
        "else:\n",
        "\n",
        "  print(\"loop encerrado com sucesso\")"
      ],
      "execution_count": 98,
      "outputs": [
        {
          "output_type": "stream",
          "name": "stdout",
          "text": [
            "0\n",
            "1\n",
            "2\n",
            "3\n",
            "loop encerrado com sucesso\n"
          ]
        }
      ]
    },
    {
      "cell_type": "code",
      "metadata": {
        "colab": {
          "base_uri": "https://localhost:8080/"
        },
        "id": "rr-MO_iHCjwL",
        "outputId": "7a0035b9-a202-41bc-ed69-24921b3440b4"
      },
      "source": [
        "palavra = input(\"digite uma palavra: \")\n",
        "\n",
        "while palavra.isupper() == False:\n",
        "  palavra = input(\"digite uma palavra: \")\n"
      ],
      "execution_count": 101,
      "outputs": [
        {
          "name": "stdout",
          "output_type": "stream",
          "text": [
            "digite uma palavra: matheus\n",
            "digite uma palavra: matheus\n",
            "digite uma palavra: matheus\n",
            "digite uma palavra: MATHEUS\n"
          ]
        }
      ]
    },
    {
      "cell_type": "code",
      "metadata": {
        "colab": {
          "base_uri": "https://localhost:8080/"
        },
        "id": "WbsmfSxsMHXS",
        "outputId": "1a3b9c8c-5c0b-488b-9692-0565605e32b9"
      },
      "source": [
        "txt.isupper()"
      ],
      "execution_count": 118,
      "outputs": [
        {
          "output_type": "execute_result",
          "data": {
            "text/plain": [
              "False"
            ]
          },
          "metadata": {},
          "execution_count": 118
        }
      ]
    },
    {
      "cell_type": "code",
      "metadata": {
        "id": "1zJJrf1nM1Tt"
      },
      "source": [
        ""
      ],
      "execution_count": null,
      "outputs": []
    }
  ]
}